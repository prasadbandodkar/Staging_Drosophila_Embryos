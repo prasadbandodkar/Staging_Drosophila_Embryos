{
  "cells": [
    {
      "cell_type": "markdown",
      "metadata": {
        "id": "9KV3EBHUvXFS"
      },
      "source": [
        "# Staging Drosophila Embryos\n",
        "The objective of the project is to develop a model that would predict the stage of the development of a Drosophila embryo based on the image of the embryo. The final model would take as input an image of the the embryos stained for DAPI and output the development time."
      ]
    },
    {
      "cell_type": "markdown",
      "metadata": {
        "id": "VTOF-Kn2vXFX"
      },
      "source": [
        "## Colab-related imports"
      ]
    },
    {
      "cell_type": "code",
      "execution_count": null,
      "metadata": {
        "colab": {
          "base_uri": "https://localhost:8080/",
          "height": 73,
          "resources": {
            "http://localhost:8080/nbextensions/google.colab/files.js": {
              "data": "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",
              "headers": [
                [
                  "content-type",
                  "application/javascript"
                ]
              ],
              "ok": true,
              "status": 200,
              "status_text": ""
            }
          }
        },
        "id": "TIpS6_RFvXFY",
        "outputId": "41c21a85-613f-47c3-e99a-ca2f34729e5e"
      },
      "outputs": [
        {
          "data": {
            "text/html": [
              "\n",
              "     <input type=\"file\" id=\"files-95fd4d10-8f76-43a2-aa90-0776144fa6cd\" name=\"files[]\" multiple disabled\n",
              "        style=\"border:none\" />\n",
              "     <output id=\"result-95fd4d10-8f76-43a2-aa90-0776144fa6cd\">\n",
              "      Upload widget is only available when the cell has been executed in the\n",
              "      current browser session. Please rerun this cell to enable.\n",
              "      </output>\n",
              "      <script src=\"/nbextensions/google.colab/files.js\"></script> "
            ],
            "text/plain": [
              "<IPython.core.display.HTML object>"
            ]
          },
          "metadata": {},
          "output_type": "display_data"
        },
        {
          "name": "stdout",
          "output_type": "stream",
          "text": [
            "Saving CrossSections.zip to CrossSections.zip\n"
          ]
        }
      ],
      "source": [
        "# import data into google colab\n",
        "from google.colab import files\n",
        "import io\n",
        "uploaded = files.upload()"
      ]
    },
    {
      "cell_type": "code",
      "execution_count": null,
      "metadata": {
        "colab": {
          "base_uri": "https://localhost:8080/"
        },
        "id": "rcZSR6gwvjw5",
        "outputId": "4ac9a65e-4474-40cf-ca3f-da7aa02ba843"
      },
      "outputs": [
        {
          "name": "stdout",
          "output_type": "stream",
          "text": [
            "Mounted at /content/drive\n"
          ]
        }
      ],
      "source": [
        "from google.colab import drive\n",
        "drive.mount('/content/drive')"
      ]
    },
    {
      "cell_type": "code",
      "execution_count": null,
      "metadata": {
        "id": "YI3uNw3VvXFa"
      },
      "outputs": [],
      "source": [
        "# unzip data\n",
        "import zipfile\n",
        "zf = zipfile.ZipFile(io.BytesIO(uploaded['CrossSections.zip']), \"r\")\n",
        "zf.extractall('CrossSections')"
      ]
    },
    {
      "cell_type": "markdown",
      "metadata": {
        "id": "CfCeln_CvXFb"
      },
      "source": [
        "## Specifications\n",
        "This section specifies libraries to import, folder locations and filenames"
      ]
    },
    {
      "cell_type": "markdown",
      "metadata": {},
      "source": [
        "### Specify libraries to import"
      ]
    },
    {
      "cell_type": "code",
      "execution_count": 1,
      "metadata": {
        "id": "l5aobut8vXFb"
      },
      "outputs": [],
      "source": [
        "# Standard import statements\n",
        "#\n",
        "import os\n",
        "import numpy as np\n",
        "import tensorflow as tf\n",
        "from tensorflow import keras\n",
        "import pandas as pd\n",
        "import matplotlib.pyplot as plt\n",
        "from tensorflow.keras.callbacks import TensorBoard"
      ]
    },
    {
      "cell_type": "code",
      "execution_count": 13,
      "metadata": {},
      "outputs": [],
      "source": [
        "# Import local modules\n",
        "#\n",
        "from data import Data\n",
        "from tfimage import TFImage\n",
        "from cvimage import CVImage, NuclearLayer"
      ]
    },
    {
      "cell_type": "markdown",
      "metadata": {},
      "source": [
        "### Specify paths"
      ]
    },
    {
      "cell_type": "code",
      "execution_count": 7,
      "metadata": {},
      "outputs": [],
      "source": [
        "#\n",
        "# Folder specifications\n",
        "#\n",
        "sys_folder  = '/Volumes/X2/Projects/staging/Data/'\n",
        "data_folder = sys_folder + 'data/'\n"
      ]
    },
    {
      "cell_type": "markdown",
      "metadata": {
        "id": "MXgdJpchvXFe"
      },
      "source": [
        "## Data preparation\n",
        "\n",
        " This section is for data preparation. It reads the csv files and creates a dataset each for training and validation. Images are then read from the disk, reshaped and augmented."
      ]
    },
    {
      "cell_type": "markdown",
      "metadata": {
        "id": "DzpA2WjavXFf"
      },
      "source": [
        "### Functions"
      ]
    },
    {
      "cell_type": "code",
      "execution_count": null,
      "metadata": {
        "id": "O2wSvwOlvXFf"
      },
      "outputs": [],
      "source": [
        "# Functions for reading images, reshaping and augmenting. Followed by wrapper functions functions\n",
        "#\n",
        "def read_image(image_file, label):\n",
        "    image = tf.io.read_file(image_file)\n",
        "    image = tf.image.decode_image(image,channels=3, dtype=tf.float32)\n",
        "    return image, label\n",
        "\n",
        "def reshape_image(image,label):\n",
        "    global target_dim\n",
        "    H = tf.shape(image)[0]      # This is very important. Dataset fails otherwise.\n",
        "    W = tf.shape(image)[1]\n",
        "    i0 = rng.uniform(shape=[1],minval=0, maxval=H-target_dim,dtype = tf.dtypes.int32)[0]\n",
        "    #i0 = np.random.randint(0,image.shape[0]-target_dim)\n",
        "    irand = rng.uniform(shape=[1])[0]\n",
        "    if irand<0.25:\n",
        "        image = image[i0:i0+target_dim,0:target_dim,:]\n",
        "    elif irand>=0.25 and irand<0.5:\n",
        "        image = image[i0:i0+target_dim,H-target_dim:H,:]\n",
        "    elif irand>=0.5 and irand<0.75:\n",
        "        image = image[0:target_dim,i0:i0+target_dim,:]\n",
        "    elif irand>=0.75:\n",
        "        image = image[W-target_dim:W,i0:i0+target_dim,:]\n",
        "    #image = tf.image.per_image_standardization(image)\n",
        "    #image = tf.linalg.normalize(image,axis=2)\n",
        "    #image = image[0]\n",
        "    #image = (image - min(image))/(max(image)-min(image))\n",
        "    return image, label\n",
        "\n",
        "def augment(image,label,seed):\n",
        "    image = tf.image.stateless_random_flip_left_right(image,seed=seed)\n",
        "    image = tf.image.stateless_random_flip_up_down(image,seed=seed)\n",
        "    image = tf.image.stateless_random_brightness(image, max_delta = 0.5, seed = seed)\n",
        "    image = tf.image.stateless_random_contrast(image,lower = 0.5,upper = 1.5,seed = seed)\n",
        "    return image,label\n",
        "\n",
        "def normalize_image(image,label):\n",
        "    imin = tf.math.reduce_min(image)\n",
        "    imax = tf.math.reduce_max(image)\n",
        "    image = (image - imin)/(imax - imin)\n",
        "    return image,label\n",
        "\n",
        "def readImagewBoundary(image_file, label,xL,yL):\n",
        "    image = tf.io.read_file(image_file)\n",
        "    image = tf.image.decode_image(image,channels=3, dtype=tf.float32)\n",
        "    return image, label, xL, yL\n",
        "\n",
        "def reshapeImagewBoundary(image,label,xL,yL):\n",
        "    global target_dim\n",
        "    i0    = rng.uniform(shape=[1],minval=0, maxval=xL.shape[0],dtype = tf.dtypes.int32)[0]\n",
        "    image = image[yL[i0]:yL[i0]+target_dim,xL[i0]:xL[i0]+target_dim,:]\n",
        "    print(image.shape)\n",
        "    return image,label\n",
        "\n"
      ]
    },
    {
      "cell_type": "code",
      "execution_count": null,
      "metadata": {
        "id": "mtLNddnKvXFh"
      },
      "outputs": [],
      "source": [
        "# wrapper functions for training and\n",
        "#\n",
        "def wrapper_train(image_file,label):\n",
        "    image,label  = read_image(image_file,label)\n",
        "    image,label  = reshape_image(image,label)\n",
        "    seed         = rng.make_seeds(2)[0]\n",
        "    image, label = augment(image,label,seed)\n",
        "    image, label = normalize_image(image,label)\n",
        "    return image,label\n",
        "\n",
        "def wrapper_val(image_file,label):\n",
        "    image,label  = read_image(image_file,label)\n",
        "    image,label  = reshape_image(image,label)\n",
        "    image, label = normalize_image(image,label)\n",
        "    return image,label\n",
        "\n",
        "def wrapper_train_boundary(image_file,label,xL,yL):\n",
        "    image,label,xL,yL = readImagewBoundary(image_file,label,xL,yL)\n",
        "    image,label       = reshapeImagewBoundary(image,label,xL,yL)\n",
        "    seed              = rng.make_seeds(2)[0]\n",
        "    image, label      = augment(image,label,seed)\n",
        "    image, label      = normalize_image(image,label)\n",
        "    return image,label\n",
        "\n",
        "def wrapper_val_boundary(image_file,label,xL,yL):\n",
        "    image,label,xL,yL = readImagewBoundary(image_file,label,xL,yL)\n",
        "    image,label       = reshapeImagewBoundary(image,label,xL,yL)\n",
        "    image,label       = normalize_image(image,label)\n",
        "    return image,label"
      ]
    },
    {
      "cell_type": "markdown",
      "metadata": {
        "id": "PaorrxyIvXFh"
      },
      "source": [
        "### Make dataset and print sample images"
      ]
    },
    {
      "cell_type": "code",
      "execution_count": null,
      "metadata": {
        "colab": {
          "base_uri": "https://localhost:8080/"
        },
        "id": "JGiaXP18vXFi",
        "outputId": "53742141-e9a2-4ace-fb48-ee8ec7d10d00"
      },
      "outputs": [
        {
          "name": "stdout",
          "output_type": "stream",
          "text": [
            "<unknown>\n",
            "<unknown>\n"
          ]
        }
      ],
      "source": [
        "# Setup datasets\n",
        "#\n",
        "# Make training and validation dataframes\n",
        "def makeTFdatasetwBoundary(csvfile, xLfile, yLfile):\n",
        "    df         = pd.read_csv(csvfile)\n",
        "    filenames  = img_folder + df[\"filenames\"].values\n",
        "    id         = df[\"id\"].values\n",
        "    df         = pd.read_csv(xLfile,header=None)\n",
        "    xL         = np.array(df,dtype=np.int32)\n",
        "    df         = pd.read_csv(yLfile,header=None)\n",
        "    yL         = np.array(df,dtype=np.int32)\n",
        "    return tf.data.Dataset.from_tensor_slices((filenames, id, xL, yL))\n",
        "\n",
        "def makeTFdataset(csvfile):\n",
        "    df         = pd.read_csv(csvfile)\n",
        "    filenames  = img_folder + df[\"filenames\"].values\n",
        "    id         = df[\"id\"].values\n",
        "    df         = tf.data.Dataset.from_tensor_slices((filenames, id))\n",
        "    return tf.data.Dataset.from_tensor_slices((filenames, id))\n",
        "\n",
        "ds_train = makeTFdatasetwBoundary(train_csv, xL_train, yL_train)\n",
        "ds_val   = makeTFdatasetwBoundary(val_csv, xL_val, yL_val)\n",
        "ds_test  = makeTFdatasetwBoundary(test_csv, xL_test, yL_test)\n",
        "\n",
        "def configure_for_performance(ds,nBatch):\n",
        "    ds = ds.cache()\n",
        "    ds = ds.batch(nBatch)\n",
        "    ds = ds.shuffle(buffer_size=shufflenum)\n",
        "    ds = ds.prefetch(buffer_size=AUTOTUNE)\n",
        "    return ds\n",
        "\n",
        "#ds_train = ds_train.map(wrapper_train_boundary, num_parallel_calls=AUTOTUNE)\n",
        "#ds_val   = ds_val.map(wrapper_val_boundary, num_parallel_calls=AUTOTUNE)\n",
        "\n",
        "ds_train = configure_for_performance(ds_train.map(wrapper_train_boundary, num_parallel_calls=AUTOTUNE),nBatchTrain)\n",
        "ds_val   = configure_for_performance(ds_val.map(wrapper_val_boundary, num_parallel_calls=AUTOTUNE),nBatchVal)\n",
        "\n",
        "#ds_train = ds_train.batch(nBatchTrain).map(read_image,num_parallel_calls=AUTOTUNE).map(wrapper_train,num_parallel_calls=AUTOTUNE).cache().shuffle(shufflenum,reshuffle_each_iteration=True).prefetch(AUTOTUNE)\n",
        "#ds_val   = ds_val.map(read_image,num_parallel_calls=AUTOTUNE).batch(nBatchVal).map(wrapper_val,num_parallel_calls=AUTOTUNE).cache().shuffle(shufflenum,reshuffle_each_iteration=True).prefetch(AUTOTUNE)"
      ]
    },
    {
      "cell_type": "code",
      "execution_count": null,
      "metadata": {
        "colab": {
          "base_uri": "https://localhost:8080/",
          "height": 319
        },
        "id": "k7kaGMYqvXFk",
        "outputId": "1125108e-9a4f-48b3-d70a-2917f58684d5"
      },
      "outputs": [
        {
          "name": "stdout",
          "output_type": "stream",
          "text": [
            "1.0\n",
            "0.0\n",
            "(50, 50, 3)\n"
          ]
        },
        {
          "data": {
            "image/png": "[encoded data removed]",
            "text/plain": [
              "<Figure size 432x288 with 1 Axes>"
            ]
          },
          "metadata": {
            "needs_background": "light"
          },
          "output_type": "display_data"
        }
      ],
      "source": [
        "images, labels = next(iter(ds_train))\n",
        "\n",
        "image = images[3].numpy()\n",
        "plt.imshow(image,cmap='gray')\n",
        "image = np.asarray(image)\n",
        "print(image.max())\n",
        "print(image.min())\n",
        "print(image.shape)"
      ]
    },
    {
      "cell_type": "markdown",
      "metadata": {
        "id": "okbwp6EovXFk"
      },
      "source": [
        "\n",
        "## Model definition\n",
        "\n",
        " This section defines the model. The model maybe be custom-defined or a pre-trained model can be used.\n"
      ]
    },
    {
      "cell_type": "markdown",
      "metadata": {
        "id": "xzazoFeKvXFl"
      },
      "source": [
        "### Using a pre-trained model"
      ]
    },
    {
      "cell_type": "markdown",
      "metadata": {
        "id": "03P-Y4iTvXFl"
      },
      "source": [
        "#### Load model and freeze layers"
      ]
    },
    {
      "cell_type": "markdown",
      "metadata": {
        "id": "i-HU_jtkvXFl"
      },
      "source": [
        "##### MobileNetV2"
      ]
    },
    {
      "cell_type": "code",
      "execution_count": null,
      "metadata": {
        "colab": {
          "base_uri": "https://localhost:8080/"
        },
        "id": "l-tga8S-vXFl",
        "outputId": "d15ce500-13da-4e8d-ee01-541a8793717f"
      },
      "outputs": [
        {
          "name": "stdout",
          "output_type": "stream",
          "text": [
            "WARNING:tensorflow:`input_shape` is undefined or non-square, or `rows` is not in [96, 128, 160, 192, 224]. Weights for input shape (224, 224) will be loaded as the default.\n"
          ]
        }
      ],
      "source": [
        "# load the pre-trained model\n",
        "#\n",
        "IMG_SHAPE = [target_dim,target_dim,3]\n",
        "base_model = tf.keras.applications.MobileNetV2(input_shape=IMG_SHAPE,\n",
        "                                               include_top=False,\n",
        "                                               weights='imagenet')"
      ]
    },
    {
      "cell_type": "code",
      "execution_count": null,
      "metadata": {
        "colab": {
          "base_uri": "https://localhost:8080/"
        },
        "id": "KpR5mAGIvXFm",
        "outputId": "d0b86e89-4dd0-42fe-9e69-75e8e0a8c26a"
      },
      "outputs": [
        {
          "name": "stdout",
          "output_type": "stream",
          "text": [
            "(25, 3, 3, 1280)\n"
          ]
        }
      ],
      "source": [
        "# check base model\n",
        "#\n",
        "image_batch, label_batch = next(iter(ds_train))\n",
        "feature_batch = base_model(image_batch)\n",
        "print(feature_batch.shape)\n",
        "\n",
        "base_model.trainable = False\n",
        "inputs = tf.keras.Input(shape=(target_dim,target_dim,3))\n",
        "x      = tf.keras.applications.mobilenet_v2.preprocess_input(inputs)\n",
        "#base_model.summary()"
      ]
    },
    {
      "cell_type": "markdown",
      "metadata": {
        "id": "JEa2YErBvXFm"
      },
      "source": [
        "##### ResNet50V2"
      ]
    },
    {
      "cell_type": "code",
      "execution_count": null,
      "metadata": {
        "id": "T9BjEd6JvXFn"
      },
      "outputs": [],
      "source": [
        "# load model\n",
        "#\n",
        "IMG_SHAPE = [target_dim,target_dim,3]\n",
        "base_model = tf.keras.applications.ResNet50V2(input_shape=IMG_SHAPE,\n",
        "                                              include_top=False,\n",
        "                                              weights='imagenet')"
      ]
    },
    {
      "cell_type": "code",
      "execution_count": null,
      "metadata": {
        "colab": {
          "base_uri": "https://localhost:8080/"
        },
        "id": "aAGOHcb3vXFn",
        "outputId": "e70670a1-bd6e-4b0d-ec13-4cb098a401f3"
      },
      "outputs": [
        {
          "name": "stdout",
          "output_type": "stream",
          "text": [
            "(25, 3, 3, 2048)\n"
          ]
        }
      ],
      "source": [
        "# check base model\n",
        "#\n",
        "image_batch, label_batch = next(iter(ds_train))\n",
        "feature_batch = base_model(image_batch)\n",
        "print(feature_batch.shape)\n",
        "\n",
        "base_model.trainable = False\n",
        "inputs = tf.keras.Input(shape=(target_dim,target_dim,3))\n",
        "x      = tf.keras.applications.resnet_v2.preprocess_input(inputs)\n",
        "#base_model.summary()"
      ]
    },
    {
      "cell_type": "markdown",
      "metadata": {
        "id": "t1vbgKo2vXFn"
      },
      "source": [
        "##### Inception V3"
      ]
    },
    {
      "cell_type": "code",
      "execution_count": null,
      "metadata": {
        "colab": {
          "base_uri": "https://localhost:8080/",
          "height": 364
        },
        "id": "4HuJXOCOvXFo",
        "outputId": "38c502cb-0b9f-4f11-c5f0-acc8b37e709d"
      },
      "outputs": [
        {
          "ename": "ValueError",
          "evalue": "ignored",
          "output_type": "error",
          "traceback": [
            "\u001b[0;31m---------------------------------------------------------------------------\u001b[0m",
            "\u001b[0;31mValueError\u001b[0m                                Traceback (most recent call last)",
            "\u001b[0;32m<ipython-input-37-59d1a23474d3>\u001b[0m in \u001b[0;36m<module>\u001b[0;34m()\u001b[0m\n\u001b[1;32m      4\u001b[0m base_model = tf.keras.applications.InceptionV3(input_shape=IMG_SHAPE,\n\u001b[1;32m      5\u001b[0m                                               \u001b[0minclude_top\u001b[0m\u001b[0;34m=\u001b[0m\u001b[0;32mFalse\u001b[0m\u001b[0;34m,\u001b[0m\u001b[0;34m\u001b[0m\u001b[0;34m\u001b[0m\u001b[0m\n\u001b[0;32m----> 6\u001b[0;31m                                               weights='imagenet')\n\u001b[0m",
            "\u001b[0;32m/usr/local/lib/python3.7/dist-packages/keras/applications/inception_v3.py\u001b[0m in \u001b[0;36mInceptionV3\u001b[0;34m(include_top, weights, input_tensor, input_shape, pooling, classes, classifier_activation)\u001b[0m\n\u001b[1;32m    131\u001b[0m       \u001b[0mdata_format\u001b[0m\u001b[0;34m=\u001b[0m\u001b[0mbackend\u001b[0m\u001b[0;34m.\u001b[0m\u001b[0mimage_data_format\u001b[0m\u001b[0;34m(\u001b[0m\u001b[0;34m)\u001b[0m\u001b[0;34m,\u001b[0m\u001b[0;34m\u001b[0m\u001b[0;34m\u001b[0m\u001b[0m\n\u001b[1;32m    132\u001b[0m       \u001b[0mrequire_flatten\u001b[0m\u001b[0;34m=\u001b[0m\u001b[0minclude_top\u001b[0m\u001b[0;34m,\u001b[0m\u001b[0;34m\u001b[0m\u001b[0;34m\u001b[0m\u001b[0m\n\u001b[0;32m--> 133\u001b[0;31m       weights=weights)\n\u001b[0m\u001b[1;32m    134\u001b[0m \u001b[0;34m\u001b[0m\u001b[0m\n\u001b[1;32m    135\u001b[0m   \u001b[0;32mif\u001b[0m \u001b[0minput_tensor\u001b[0m \u001b[0;32mis\u001b[0m \u001b[0;32mNone\u001b[0m\u001b[0;34m:\u001b[0m\u001b[0;34m\u001b[0m\u001b[0;34m\u001b[0m\u001b[0m\n",
            "\u001b[0;32m/usr/local/lib/python3.7/dist-packages/keras/applications/imagenet_utils.py\u001b[0m in \u001b[0;36mobtain_input_shape\u001b[0;34m(input_shape, default_size, min_size, data_format, require_flatten, weights)\u001b[0m\n\u001b[1;32m    374\u001b[0m         if ((input_shape[0] is not None and input_shape[0] < min_size) or\n\u001b[1;32m    375\u001b[0m             (input_shape[1] is not None and input_shape[1] < min_size)):\n\u001b[0;32m--> 376\u001b[0;31m           raise ValueError('Input size must be at least '\n\u001b[0m\u001b[1;32m    377\u001b[0m                            \u001b[0;34mf'{min_size}x{min_size}; Received: '\u001b[0m\u001b[0;34m\u001b[0m\u001b[0;34m\u001b[0m\u001b[0m\n\u001b[1;32m    378\u001b[0m                            f'input_shape={input_shape}')\n",
            "\u001b[0;31mValueError\u001b[0m: Input size must be at least 75x75; Received: input_shape=[50, 50, 3]"
          ]
        }
      ],
      "source": [
        "# load model\n",
        "#\n",
        "IMG_SHAPE = [target_dim,target_dim,3]\n",
        "base_model = tf.keras.applications.InceptionV3(input_shape=IMG_SHAPE,\n",
        "                                              include_top=False,\n",
        "                                              weights='imagenet')"
      ]
    },
    {
      "cell_type": "code",
      "execution_count": null,
      "metadata": {
        "colab": {
          "base_uri": "https://localhost:8080/"
        },
        "id": "u-VQgU3wvXFo",
        "outputId": "a3e1eaf7-0b26-4944-ddd6-063b72d0ee90"
      },
      "outputs": [
        {
          "name": "stdout",
          "output_type": "stream",
          "text": [
            "(25, 1, 1, 2048)\n"
          ]
        }
      ],
      "source": [
        "# check base model\n",
        "#\n",
        "image_batch, label_batch = next(iter(ds_train))\n",
        "feature_batch = base_model(image_batch)\n",
        "print(feature_batch.shape)\n",
        "\n",
        "base_model.trainable = False\n",
        "inputs = tf.keras.Input(shape=(target_dim,target_dim,3))\n",
        "#x      = tf.keras.applications.inception_v3.preprocess_input(inputs)\n",
        "#base_model.summary()"
      ]
    },
    {
      "cell_type": "markdown",
      "metadata": {
        "id": "G21VqvTvvXFp"
      },
      "source": [
        "##### EfficientNet B7"
      ]
    },
    {
      "cell_type": "code",
      "execution_count": null,
      "metadata": {
        "id": "KTobEvwXvXFp"
      },
      "outputs": [],
      "source": [
        "# load model\n",
        "#\n",
        "IMG_SHAPE = [target_dim,target_dim,3]\n",
        "base_model = tf.keras.applications.EfficientNetB7(input_shape=IMG_SHAPE,\n",
        "                                              include_top=False,\n",
        "                                              weights='imagenet')"
      ]
    },
    {
      "cell_type": "code",
      "execution_count": null,
      "metadata": {
        "colab": {
          "base_uri": "https://localhost:8080/"
        },
        "id": "flsDtfCkvXFp",
        "outputId": "0d5fd960-9068-44b7-bac5-8814cb66f966"
      },
      "outputs": [
        {
          "name": "stdout",
          "output_type": "stream",
          "text": [
            "(25, 2, 2, 2560)\n"
          ]
        }
      ],
      "source": [
        "# check base model\n",
        "#\n",
        "image_batch, label_batch = next(iter(ds_train))\n",
        "feature_batch = base_model(image_batch)\n",
        "print(feature_batch.shape)\n",
        "\n",
        "base_model.trainable = False\n",
        "inputs = tf.keras.Input(shape=(target_dim,target_dim,3))\n",
        "#x      = tf.keras.applications.efficientnet.preprocess_input(inputs)\n",
        "#base_model.summary()"
      ]
    },
    {
      "cell_type": "markdown",
      "metadata": {
        "id": "gN470U_wvXFq"
      },
      "source": [
        "##### EfficientNet V2S"
      ]
    },
    {
      "cell_type": "code",
      "execution_count": null,
      "metadata": {
        "id": "D9iT0-DGvXFq"
      },
      "outputs": [],
      "source": [
        "# load model\n",
        "#\n",
        "IMG_SHAPE = [target_dim,target_dim,3]\n",
        "base_model = tf.keras.applications.EfficientNetV2S(input_shape=IMG_SHAPE,\n",
        "                                              include_top=False,\n",
        "                                              weights='imagenet')"
      ]
    },
    {
      "cell_type": "code",
      "execution_count": null,
      "metadata": {
        "colab": {
          "base_uri": "https://localhost:8080/"
        },
        "id": "kucElcHJvXFq",
        "outputId": "354726d7-ade7-4eb4-c510-4ba48d68cc64"
      },
      "outputs": [
        {
          "name": "stdout",
          "output_type": "stream",
          "text": [
            "(50, 3, 3, 1280)\n"
          ]
        }
      ],
      "source": [
        "# check base model\n",
        "#\n",
        "image_batch, label_batch = next(iter(ds_train))\n",
        "feature_batch = base_model(image_batch)\n",
        "print(feature_batch.shape)\n",
        "\n",
        "base_model.trainable = False\n",
        "inputs = tf.keras.Input(shape=(target_dim,target_dim,3))\n",
        "#x      = tf.keras.applications.efficientnet_v2.preprocess_input(inputs)\n",
        "#base_model.summary()"
      ]
    },
    {
      "cell_type": "markdown",
      "metadata": {
        "id": "NYYsMFjMvXFr"
      },
      "source": [
        "#### Add additional layers to the model"
      ]
    },
    {
      "cell_type": "code",
      "execution_count": null,
      "metadata": {
        "colab": {
          "base_uri": "https://localhost:8080/"
        },
        "id": "ziM3GIHVvXFr",
        "outputId": "aa90da27-039d-4ac9-b998-e52087d5df11"
      },
      "outputs": [
        {
          "name": "stdout",
          "output_type": "stream",
          "text": [
            "Model: \"model_4\"\n",
            "_________________________________________________________________\n",
            " Layer (type)                Output Shape              Param #   \n",
            "=================================================================\n",
            " input_3 (InputLayer)        [(None, 50, 50, 3)]       0         \n",
            "                                                                 \n",
            " efficientnetb7 (Functional)  (None, 2, 2, 2560)       64097687  \n",
            "                                                                 \n",
            " global_average_pooling2d_4   (None, 2560)             0         \n",
            " (GlobalAveragePooling2D)                                        \n",
            "                                                                 \n",
            " dense_43 (Dense)            (None, 128)               327808    \n",
            "                                                                 \n",
            " dropout_39 (Dropout)        (None, 128)               0         \n",
            "                                                                 \n",
            " dense_44 (Dense)            (None, 128)               16512     \n",
            "                                                                 \n",
            " dropout_40 (Dropout)        (None, 128)               0         \n",
            "                                                                 \n",
            " dense_45 (Dense)            (None, 128)               16512     \n",
            "                                                                 \n",
            " dense_46 (Dense)            (None, 128)               16512     \n",
            "                                                                 \n",
            " dense_47 (Dense)            (None, 128)               16512     \n",
            "                                                                 \n",
            " dropout_41 (Dropout)        (None, 128)               0         \n",
            "                                                                 \n",
            " dense_48 (Dense)            (None, 128)               16512     \n",
            "                                                                 \n",
            " dropout_42 (Dropout)        (None, 128)               0         \n",
            "                                                                 \n",
            " dense_49 (Dense)            (None, 128)               16512     \n",
            "                                                                 \n",
            " dropout_43 (Dropout)        (None, 128)               0         \n",
            "                                                                 \n",
            " dense_50 (Dense)            (None, 1)                 129       \n",
            "                                                                 \n",
            "=================================================================\n",
            "Total params: 64,524,696\n",
            "Trainable params: 427,009\n",
            "Non-trainable params: 64,097,687\n",
            "_________________________________________________________________\n"
          ]
        }
      ],
      "source": [
        "# Add additional layers to the model\n",
        "#\n",
        "x = base_model(inputs,training=False)       # because of the batchnorm layer\n",
        "x = tf.keras.layers.GlobalAveragePooling2D()(x)\n",
        "x = tf.keras.layers.Dense(128, activation='relu')(x)\n",
        "x = tf.keras.layers.Dropout(0.1)(x)\n",
        "x = tf.keras.layers.Dense(128, activation='relu')(x)\n",
        "x = tf.keras.layers.Dropout(0.1)(x)\n",
        "x = tf.keras.layers.Dense(128, activation='relu')(x)\n",
        "x = tf.keras.layers.Dense(128, activation='relu')(x)\n",
        "x = tf.keras.layers.Dense(128, activation='relu')(x)\n",
        "x = tf.keras.layers.Dropout(0.1)(x)\n",
        "x = tf.keras.layers.Dense(128, activation='relu')(x)\n",
        "x = tf.keras.layers.Dropout(0.2)(x)\n",
        "x = tf.keras.layers.Dense(128, activation='relu')(x)\n",
        "x = tf.keras.layers.Dropout(0.1)(x)\n",
        "x = tf.keras.layers.Dense(1,activation='sigmoid')(x)\n",
        "\n",
        "model = tf.keras.Model(inputs, x)\n",
        "model.summary()"
      ]
    },
    {
      "cell_type": "markdown",
      "metadata": {
        "id": "mLxi5TQ8vXFr"
      },
      "source": [
        "\n",
        "### Custom model\n",
        "\n",
        " This section defines a custom model created from scratch."
      ]
    },
    {
      "cell_type": "code",
      "execution_count": null,
      "metadata": {
        "id": "4HHPgQVdvXFr",
        "outputId": "e62aa8a8-7639-4484-d8cb-9e08ba769762"
      },
      "outputs": [
        {
          "name": "stdout",
          "output_type": "stream",
          "text": [
            "Model: \"sequential_1\"\n",
            "_________________________________________________________________\n",
            " Layer (type)                Output Shape              Param #   \n",
            "=================================================================\n",
            " conv2d_11 (Conv2D)          (None, 74, 74, 250)       3250      \n",
            "                                                                 \n",
            " batch_normalization_11 (Bat  (None, 74, 74, 250)      1000      \n",
            " chNormalization)                                                \n",
            "                                                                 \n",
            " conv2d_12 (Conv2D)          (None, 73, 73, 250)       250250    \n",
            "                                                                 \n",
            " batch_normalization_12 (Bat  (None, 73, 73, 250)      1000      \n",
            " chNormalization)                                                \n",
            "                                                                 \n",
            " dropout_13 (Dropout)        (None, 73, 73, 250)       0         \n",
            "                                                                 \n",
            " conv2d_13 (Conv2D)          (None, 72, 72, 250)       250250    \n",
            "                                                                 \n",
            " batch_normalization_13 (Bat  (None, 72, 72, 250)      1000      \n",
            " chNormalization)                                                \n",
            "                                                                 \n",
            " dropout_14 (Dropout)        (None, 72, 72, 250)       0         \n",
            "                                                                 \n",
            " conv2d_14 (Conv2D)          (None, 71, 71, 250)       250250    \n",
            "                                                                 \n",
            " batch_normalization_14 (Bat  (None, 71, 71, 250)      1000      \n",
            " chNormalization)                                                \n",
            "                                                                 \n",
            " dropout_15 (Dropout)        (None, 71, 71, 250)       0         \n",
            "                                                                 \n",
            " conv2d_15 (Conv2D)          (None, 70, 70, 250)       250250    \n",
            "                                                                 \n",
            " batch_normalization_15 (Bat  (None, 70, 70, 250)      1000      \n",
            " chNormalization)                                                \n",
            "                                                                 \n",
            " dropout_16 (Dropout)        (None, 70, 70, 250)       0         \n",
            "                                                                 \n",
            " max_pooling2d_3 (MaxPooling  (None, 35, 35, 250)      0         \n",
            " 2D)                                                             \n",
            "                                                                 \n",
            " conv2d_16 (Conv2D)          (None, 34, 34, 250)       250250    \n",
            "                                                                 \n",
            " batch_normalization_16 (Bat  (None, 34, 34, 250)      1000      \n",
            " chNormalization)                                                \n",
            "                                                                 \n",
            " dropout_17 (Dropout)        (None, 34, 34, 250)       0         \n",
            "                                                                 \n",
            " conv2d_17 (Conv2D)          (None, 33, 33, 250)       250250    \n",
            "                                                                 \n",
            " batch_normalization_17 (Bat  (None, 33, 33, 250)      1000      \n",
            " chNormalization)                                                \n",
            "                                                                 \n",
            " dropout_18 (Dropout)        (None, 33, 33, 250)       0         \n",
            "                                                                 \n",
            " conv2d_18 (Conv2D)          (None, 32, 32, 250)       250250    \n",
            "                                                                 \n",
            " batch_normalization_18 (Bat  (None, 32, 32, 250)      1000      \n",
            " chNormalization)                                                \n",
            "                                                                 \n",
            " dropout_19 (Dropout)        (None, 32, 32, 250)       0         \n",
            "                                                                 \n",
            " max_pooling2d_4 (MaxPooling  (None, 16, 16, 250)      0         \n",
            " 2D)                                                             \n",
            "                                                                 \n",
            " conv2d_19 (Conv2D)          (None, 15, 15, 250)       250250    \n",
            "                                                                 \n",
            " batch_normalization_19 (Bat  (None, 15, 15, 250)      1000      \n",
            " chNormalization)                                                \n",
            "                                                                 \n",
            " dropout_20 (Dropout)        (None, 15, 15, 250)       0         \n",
            "                                                                 \n",
            " conv2d_20 (Conv2D)          (None, 14, 14, 250)       250250    \n",
            "                                                                 \n",
            " batch_normalization_20 (Bat  (None, 14, 14, 250)      1000      \n",
            " chNormalization)                                                \n",
            "                                                                 \n",
            " dropout_21 (Dropout)        (None, 14, 14, 250)       0         \n",
            "                                                                 \n",
            " conv2d_21 (Conv2D)          (None, 13, 13, 250)       250250    \n",
            "                                                                 \n",
            " batch_normalization_21 (Bat  (None, 13, 13, 250)      1000      \n",
            " chNormalization)                                                \n",
            "                                                                 \n",
            " dropout_22 (Dropout)        (None, 13, 13, 250)       0         \n",
            "                                                                 \n",
            " max_pooling2d_5 (MaxPooling  (None, 6, 6, 250)        0         \n",
            " 2D)                                                             \n",
            "                                                                 \n",
            " flatten_1 (Flatten)         (None, 9000)              0         \n",
            "                                                                 \n",
            " dense_4 (Dense)             (None, 32)                288032    \n",
            "                                                                 \n",
            " dropout_23 (Dropout)        (None, 32)                0         \n",
            "                                                                 \n",
            " dense_5 (Dense)             (None, 32)                1056      \n",
            "                                                                 \n",
            " dropout_24 (Dropout)        (None, 32)                0         \n",
            "                                                                 \n",
            " dense_6 (Dense)             (None, 32)                1056      \n",
            "                                                                 \n",
            " dropout_25 (Dropout)        (None, 32)                0         \n",
            "                                                                 \n",
            " dense_7 (Dense)             (None, 1)                 33        \n",
            "                                                                 \n",
            "=================================================================\n",
            "Total params: 2,806,927\n",
            "Trainable params: 2,801,427\n",
            "Non-trainable params: 5,500\n",
            "_________________________________________________________________\n"
          ]
        }
      ],
      "source": [
        "# Custom model\n",
        "model = tf.keras.models.Sequential([\n",
        "    tf.keras.layers.Conv2D(250, (2,2),activation='relu', input_shape=(target_dim,target_dim,3)),\n",
        "    tf.keras.layers.BatchNormalization(),\n",
        "\n",
        "    tf.keras.layers.Conv2D(250, (2,2),activation='relu'),\n",
        "    tf.keras.layers.BatchNormalization(),\n",
        "    tf.keras.layers.Dropout(0.1),\n",
        "\n",
        "    tf.keras.layers.Conv2D(250, (2,2),activation='relu'),\n",
        "    tf.keras.layers.BatchNormalization(),\n",
        "    tf.keras.layers.Dropout(0.1),\n",
        "\n",
        "    tf.keras.layers.Conv2D(250, (2,2),activation='relu'),\n",
        "    tf.keras.layers.BatchNormalization(),\n",
        "    tf.keras.layers.Dropout(0.1),\n",
        "\n",
        "    tf.keras.layers.Conv2D(250, (2,2),activation='relu'),\n",
        "    tf.keras.layers.BatchNormalization(),\n",
        "    tf.keras.layers.Dropout(0.1),\n",
        "    tf.keras.layers.MaxPooling2D(2,2),\n",
        "\n",
        "\n",
        "    tf.keras.layers.Conv2D(250, (2,2),activation='relu'),\n",
        "    tf.keras.layers.BatchNormalization(),\n",
        "    tf.keras.layers.Dropout(0.1),\n",
        "\n",
        "    tf.keras.layers.Conv2D(250, (2,2),activation='relu'),\n",
        "    tf.keras.layers.BatchNormalization(),\n",
        "    tf.keras.layers.Dropout(0.1),\n",
        "\n",
        "    tf.keras.layers.Conv2D(250, (2,2),activation='relu'),\n",
        "    tf.keras.layers.BatchNormalization(),\n",
        "    tf.keras.layers.Dropout(0.1),\n",
        "    tf.keras.layers.MaxPooling2D(2,2),\n",
        "\n",
        "    tf.keras.layers.Conv2D(250, (2,2),activation='relu'),\n",
        "    tf.keras.layers.BatchNormalization(),\n",
        "    tf.keras.layers.Dropout(0.1),\n",
        "\n",
        "    tf.keras.layers.Conv2D(250, (2,2),activation='relu'),\n",
        "    tf.keras.layers.BatchNormalization(),\n",
        "    tf.keras.layers.Dropout(0.1),\n",
        "\n",
        "    tf.keras.layers.Conv2D(250, (2,2),activation='relu'),\n",
        "    tf.keras.layers.BatchNormalization(),\n",
        "    tf.keras.layers.Dropout(0.1),\n",
        "    tf.keras.layers.MaxPooling2D(2,2),\n",
        "\n",
        "\n",
        "    # Flatten\n",
        "    tf.keras.layers.Flatten(),\n",
        "    tf.keras.layers.Dense(32, activation='relu'),\n",
        "    tf.keras.layers.Dropout(0.20),\n",
        "    tf.keras.layers.Dense(32, activation='relu'),\n",
        "    tf.keras.layers.Dropout(0.20),\n",
        "    tf.keras.layers.Dense(32, activation='relu'),\n",
        "    tf.keras.layers.Dropout(0.20),\n",
        "\n",
        "    # Output\n",
        "    tf.keras.layers.Dense(1)\n",
        "])\n",
        "\n",
        "model.summary()"
      ]
    },
    {
      "cell_type": "markdown",
      "metadata": {
        "id": "-BhhJuPnvXFs"
      },
      "source": [
        "### Load previously-trained model\n",
        "This section will load a previously trained model to re-train!"
      ]
    },
    {
      "cell_type": "code",
      "execution_count": null,
      "metadata": {
        "id": "QJMAsswuvXFs"
      },
      "outputs": [],
      "source": [
        "#model_path = './Models/NLBits3_C1'\n",
        "model = tf.keras.models.load_model(model_path)"
      ]
    },
    {
      "cell_type": "markdown",
      "metadata": {
        "id": "9-PO6OidvXFt"
      },
      "source": [
        "## Compile and train\n"
      ]
    },
    {
      "cell_type": "code",
      "execution_count": null,
      "metadata": {
        "id": "xY4IgBl7vXFt"
      },
      "outputs": [],
      "source": [
        "# compile model\n",
        "#\n",
        "model.compile(loss='mean_squared_error', optimizer = tf.keras.optimizers.Adam(learning_rate=1e-4), metrics = ['mse'])"
      ]
    },
    {
      "cell_type": "code",
      "execution_count": null,
      "metadata": {
        "id": "ViQAwIsGvXFt"
      },
      "outputs": [],
      "source": [
        "# add checkpoints\n",
        "#\n",
        "cp_callback  = tf.keras.callbacks.ModelCheckpoint(model_path,\n",
        "                                                  verbose = 2,\n",
        "                                                  save_best_only = True,\n",
        "                                                  save_freq = 'epoch')\n",
        "log_callback = TensorBoard(log_dir=log_path, histogram_freq=5)\n",
        "callbacks    = [cp_callback, log_callback]"
      ]
    },
    {
      "cell_type": "code",
      "execution_count": null,
      "metadata": {
        "colab": {
          "base_uri": "https://localhost:8080/"
        },
        "id": "YI2a-O-pvXFt",
        "outputId": "60a5bce7-ed8c-4b5a-d35d-7a49b67044f7"
      },
      "outputs": [
        {
          "name": "stdout",
          "output_type": "stream",
          "text": [
            "Epoch 1/500\n",
            "\n",
            "Epoch 1: val_loss improved from inf to 0.08046, saving model to /content/drive/MyDrive/Colab Project/Models/CrossSections_C3\n",
            "INFO:tensorflow:Assets written to: /content/drive/MyDrive/Colab Project/Models/CrossSections_C3/assets\n",
            "69/69 - 267s - loss: 0.0878 - mse: 0.0878 - val_loss: 0.0805 - val_mse: 0.0805 - 267s/epoch - 4s/step\n",
            "Epoch 2/500\n",
            "\n",
            "Epoch 2: val_loss improved from 0.08046 to 0.08005, saving model to /content/drive/MyDrive/Colab Project/Models/CrossSections_C3\n",
            "INFO:tensorflow:Assets written to: /content/drive/MyDrive/Colab Project/Models/CrossSections_C3/assets\n",
            "69/69 - 242s - loss: 0.0885 - mse: 0.0885 - val_loss: 0.0801 - val_mse: 0.0801 - 242s/epoch - 4s/step\n",
            "Epoch 3/500\n",
            "\n",
            "Epoch 3: val_loss did not improve from 0.08005\n",
            "69/69 - 11s - loss: 0.0873 - mse: 0.0873 - val_loss: 0.0806 - val_mse: 0.0806 - 11s/epoch - 156ms/step\n",
            "Epoch 4/500\n",
            "\n",
            "Epoch 4: val_loss did not improve from 0.08005\n",
            "69/69 - 10s - loss: 0.0872 - mse: 0.0872 - val_loss: 0.0818 - val_mse: 0.0818 - 10s/epoch - 149ms/step\n",
            "Epoch 5/500\n",
            "\n",
            "Epoch 5: val_loss did not improve from 0.08005\n",
            "69/69 - 10s - loss: 0.0875 - mse: 0.0875 - val_loss: 0.0818 - val_mse: 0.0818 - 10s/epoch - 148ms/step\n",
            "Epoch 6/500\n",
            "\n",
            "Epoch 6: val_loss did not improve from 0.08005\n",
            "69/69 - 10s - loss: 0.0874 - mse: 0.0874 - val_loss: 0.0803 - val_mse: 0.0803 - 10s/epoch - 150ms/step\n",
            "Epoch 7/500\n",
            "\n",
            "Epoch 7: val_loss did not improve from 0.08005\n",
            "69/69 - 10s - loss: 0.0872 - mse: 0.0872 - val_loss: 0.0804 - val_mse: 0.0804 - 10s/epoch - 148ms/step\n",
            "Epoch 8/500\n",
            "\n",
            "Epoch 8: val_loss did not improve from 0.08005\n",
            "69/69 - 10s - loss: 0.0871 - mse: 0.0871 - val_loss: 0.0808 - val_mse: 0.0808 - 10s/epoch - 148ms/step\n",
            "Epoch 9/500\n",
            "\n",
            "Epoch 9: val_loss did not improve from 0.08005\n",
            "69/69 - 10s - loss: 0.0872 - mse: 0.0872 - val_loss: 0.0806 - val_mse: 0.0806 - 10s/epoch - 148ms/step\n",
            "Epoch 10/500\n",
            "\n",
            "Epoch 10: val_loss did not improve from 0.08005\n",
            "69/69 - 10s - loss: 0.0871 - mse: 0.0871 - val_loss: 0.0817 - val_mse: 0.0817 - 10s/epoch - 150ms/step\n",
            "Epoch 11/500\n",
            "\n",
            "Epoch 11: val_loss did not improve from 0.08005\n",
            "69/69 - 10s - loss: 0.0874 - mse: 0.0874 - val_loss: 0.0808 - val_mse: 0.0808 - 10s/epoch - 148ms/step\n",
            "Epoch 12/500\n",
            "\n",
            "Epoch 12: val_loss did not improve from 0.08005\n",
            "69/69 - 10s - loss: 0.0872 - mse: 0.0872 - val_loss: 0.0807 - val_mse: 0.0807 - 10s/epoch - 148ms/step\n",
            "Epoch 13/500\n",
            "\n",
            "Epoch 13: val_loss did not improve from 0.08005\n",
            "69/69 - 10s - loss: 0.0872 - mse: 0.0872 - val_loss: 0.0805 - val_mse: 0.0805 - 10s/epoch - 149ms/step\n",
            "Epoch 14/500\n",
            "\n",
            "Epoch 14: val_loss did not improve from 0.08005\n",
            "69/69 - 10s - loss: 0.0874 - mse: 0.0874 - val_loss: 0.0803 - val_mse: 0.0803 - 10s/epoch - 148ms/step\n",
            "Epoch 15/500\n",
            "\n",
            "Epoch 15: val_loss did not improve from 0.08005\n",
            "69/69 - 10s - loss: 0.0873 - mse: 0.0873 - val_loss: 0.0806 - val_mse: 0.0806 - 10s/epoch - 148ms/step\n",
            "Epoch 16/500\n",
            "\n",
            "Epoch 16: val_loss did not improve from 0.08005\n",
            "69/69 - 10s - loss: 0.0872 - mse: 0.0872 - val_loss: 0.0806 - val_mse: 0.0806 - 10s/epoch - 150ms/step\n",
            "Epoch 17/500\n",
            "\n",
            "Epoch 17: val_loss did not improve from 0.08005\n",
            "69/69 - 10s - loss: 0.0871 - mse: 0.0871 - val_loss: 0.0809 - val_mse: 0.0809 - 10s/epoch - 147ms/step\n",
            "Epoch 18/500\n",
            "\n",
            "Epoch 18: val_loss did not improve from 0.08005\n",
            "69/69 - 10s - loss: 0.0871 - mse: 0.0871 - val_loss: 0.0808 - val_mse: 0.0808 - 10s/epoch - 147ms/step\n",
            "Epoch 19/500\n",
            "\n",
            "Epoch 19: val_loss did not improve from 0.08005\n",
            "69/69 - 10s - loss: 0.0873 - mse: 0.0873 - val_loss: 0.0806 - val_mse: 0.0806 - 10s/epoch - 147ms/step\n",
            "Epoch 20/500\n",
            "\n",
            "Epoch 20: val_loss did not improve from 0.08005\n",
            "69/69 - 10s - loss: 0.0871 - mse: 0.0871 - val_loss: 0.0807 - val_mse: 0.0807 - 10s/epoch - 148ms/step\n",
            "Epoch 21/500\n",
            "\n",
            "Epoch 21: val_loss did not improve from 0.08005\n",
            "69/69 - 10s - loss: 0.0872 - mse: 0.0872 - val_loss: 0.0805 - val_mse: 0.0805 - 10s/epoch - 150ms/step\n",
            "Epoch 22/500\n",
            "\n",
            "Epoch 22: val_loss did not improve from 0.08005\n",
            "69/69 - 10s - loss: 0.0870 - mse: 0.0870 - val_loss: 0.0806 - val_mse: 0.0806 - 10s/epoch - 148ms/step\n",
            "Epoch 23/500\n",
            "\n",
            "Epoch 23: val_loss did not improve from 0.08005\n",
            "69/69 - 10s - loss: 0.0870 - mse: 0.0870 - val_loss: 0.0809 - val_mse: 0.0809 - 10s/epoch - 148ms/step\n",
            "Epoch 24/500\n",
            "\n",
            "Epoch 24: val_loss did not improve from 0.08005\n",
            "69/69 - 10s - loss: 0.0870 - mse: 0.0870 - val_loss: 0.0807 - val_mse: 0.0807 - 10s/epoch - 148ms/step\n",
            "Epoch 25/500\n",
            "\n",
            "Epoch 25: val_loss did not improve from 0.08005\n",
            "69/69 - 10s - loss: 0.0870 - mse: 0.0870 - val_loss: 0.0808 - val_mse: 0.0808 - 10s/epoch - 149ms/step\n",
            "Epoch 26/500\n",
            "\n",
            "Epoch 26: val_loss did not improve from 0.08005\n",
            "69/69 - 10s - loss: 0.0871 - mse: 0.0871 - val_loss: 0.0809 - val_mse: 0.0809 - 10s/epoch - 147ms/step\n",
            "Epoch 27/500\n",
            "\n",
            "Epoch 27: val_loss did not improve from 0.08005\n",
            "69/69 - 10s - loss: 0.0870 - mse: 0.0870 - val_loss: 0.0808 - val_mse: 0.0808 - 10s/epoch - 148ms/step\n",
            "Epoch 28/500\n",
            "\n",
            "Epoch 28: val_loss did not improve from 0.08005\n",
            "69/69 - 10s - loss: 0.0870 - mse: 0.0870 - val_loss: 0.0809 - val_mse: 0.0809 - 10s/epoch - 147ms/step\n",
            "Epoch 29/500\n",
            "\n",
            "Epoch 29: val_loss did not improve from 0.08005\n",
            "69/69 - 10s - loss: 0.0871 - mse: 0.0871 - val_loss: 0.0811 - val_mse: 0.0811 - 10s/epoch - 147ms/step\n",
            "Epoch 30/500\n",
            "\n",
            "Epoch 30: val_loss did not improve from 0.08005\n",
            "69/69 - 10s - loss: 0.0871 - mse: 0.0871 - val_loss: 0.0812 - val_mse: 0.0812 - 10s/epoch - 147ms/step\n",
            "Epoch 31/500\n",
            "\n",
            "Epoch 31: val_loss did not improve from 0.08005\n",
            "69/69 - 10s - loss: 0.0870 - mse: 0.0870 - val_loss: 0.0810 - val_mse: 0.0810 - 10s/epoch - 147ms/step\n",
            "Epoch 32/500\n",
            "\n",
            "Epoch 32: val_loss did not improve from 0.08005\n",
            "69/69 - 10s - loss: 0.0871 - mse: 0.0871 - val_loss: 0.0811 - val_mse: 0.0811 - 10s/epoch - 147ms/step\n",
            "Epoch 33/500\n",
            "\n",
            "Epoch 33: val_loss did not improve from 0.08005\n",
            "69/69 - 10s - loss: 0.0871 - mse: 0.0871 - val_loss: 0.0810 - val_mse: 0.0810 - 10s/epoch - 147ms/step\n",
            "Epoch 34/500\n",
            "\n",
            "Epoch 34: val_loss did not improve from 0.08005\n",
            "69/69 - 10s - loss: 0.0871 - mse: 0.0871 - val_loss: 0.0809 - val_mse: 0.0809 - 10s/epoch - 147ms/step\n",
            "Epoch 35/500\n",
            "\n",
            "Epoch 35: val_loss did not improve from 0.08005\n",
            "69/69 - 10s - loss: 0.0870 - mse: 0.0870 - val_loss: 0.0809 - val_mse: 0.0809 - 10s/epoch - 147ms/step\n",
            "Epoch 36/500\n",
            "\n",
            "Epoch 36: val_loss did not improve from 0.08005\n",
            "69/69 - 10s - loss: 0.0870 - mse: 0.0870 - val_loss: 0.0810 - val_mse: 0.0810 - 10s/epoch - 148ms/step\n",
            "Epoch 37/500\n",
            "\n",
            "Epoch 37: val_loss did not improve from 0.08005\n",
            "69/69 - 10s - loss: 0.0870 - mse: 0.0870 - val_loss: 0.0810 - val_mse: 0.0810 - 10s/epoch - 148ms/step\n",
            "Epoch 38/500\n"
          ]
        }
      ],
      "source": [
        "# Training\n",
        "#\n",
        "history = model.fit(ds_train, validation_data=ds_val,verbose=2, epochs=500,callbacks=[cp_callback])"
      ]
    },
    {
      "cell_type": "markdown",
      "metadata": {
        "id": "CyqCBh2-vXFt"
      },
      "source": [
        "## Testing.\n",
        "This section will load ds_test and test the model on the holdout dataset."
      ]
    },
    {
      "cell_type": "markdown",
      "metadata": {
        "id": "Uvru0f35vXFu"
      },
      "source": [
        "### Evaluate and predict"
      ]
    },
    {
      "cell_type": "code",
      "execution_count": null,
      "metadata": {
        "id": "EEdZMzcuvXFu"
      },
      "outputs": [],
      "source": [
        "# Evaluate model on test data ot get loss and accuracy\n",
        "#\n",
        "neval = 10\n",
        "loss  = np.zeros(neval,1)\n",
        "acc   = np.zeros(neval,1)\n",
        "for i in range(neval):\n",
        "    loss[i], acc[i] = model.evaluate(ds_test, verbose=2)\n",
        "\n",
        "lossavg = np.mean(loss)\n",
        "accavg  = np.mean(acc)"
      ]
    },
    {
      "cell_type": "code",
      "execution_count": null,
      "metadata": {
        "id": "8nA3bHIUvXFu"
      },
      "outputs": [],
      "source": [
        "# make predictions using this model\n",
        "#\n",
        "neval = 10\n",
        "y_test_pred = []\n",
        "for i in range(neval):\n",
        "    y_test_pred = [y_test_pred,model.predict(ds_test, verbose=2)]\n",
        "\n",
        "y_test_pred     = np.array(y_test_pred)\n",
        "y_test_pred_avg = np.mean(y_test_pred,axis=0)"
      ]
    },
    {
      "cell_type": "markdown",
      "metadata": {
        "id": "plbeUw3IvXFu"
      },
      "source": [
        "### Plotting"
      ]
    },
    {
      "cell_type": "code",
      "execution_count": null,
      "metadata": {
        "id": "GZ29eAIWvXFv"
      },
      "outputs": [],
      "source": [
        "# prepare for making plots\n",
        "#\n",
        "y_test  = list(ds_test.as_numpy_iterator())\n",
        "y_test  = np.array([i[1] for i in y_test])\n",
        "\n",
        "i0      = np.argwhere(y_test==1)\n",
        "i0      = [i[0]+1 for i in i0]\n",
        "y_test  = np.split(y_test,i0)\n",
        "y_test_pred_avg = np.split(y_test_pred_avg,i0)\n",
        "y_test  = y_test[:-1]\n",
        "y_test_pred_avg = y_test_pred_avg[:-1]"
      ]
    },
    {
      "cell_type": "code",
      "execution_count": null,
      "metadata": {
        "id": "LK2nt-UfvXFv",
        "outputId": "c8453aaa-7d91-4626-e99c-5227a5e3f8ad"
      },
      "outputs": [
        {
          "data": {
            "image/png": "[encoded data removed]",
            "text/plain": [
              "<Figure size 432x288 with 1 Axes>"
            ]
          },
          "metadata": {
            "needs_background": "light"
          },
          "output_type": "display_data"
        },
        {
          "data": {
            "image/png": "[encoded data removed]",
            "text/plain": [
              "<Figure size 432x288 with 1 Axes>"
            ]
          },
          "metadata": {
            "needs_background": "light"
          },
          "output_type": "display_data"
        }
      ],
      "source": [
        "# run loop through all data points and make plots\n",
        "#\n",
        "for i in range(len(y_test)):\n",
        "    plt.figure(i)\n",
        "    plt.plot(y_test[i],label='y_test')\n",
        "    plt.plot(y_test_pred_avg[i],label='predicted')\n",
        "    plt.legend(['Actual','Predicted'])\n",
        "    #plt.title(checkpoint_path + img_folder)\n",
        "    plt.ylim((0,1))"
      ]
    },
    {
      "cell_type": "markdown",
      "metadata": {
        "id": "3GoWbbvLvXFv"
      },
      "source": [
        "## Layer outputs\n",
        "Visualize the output of every layer of the model"
      ]
    },
    {
      "cell_type": "code",
      "execution_count": null,
      "metadata": {
        "id": "zX-93gfnvXFv",
        "outputId": "4106e74d-cff3-4716-f2be-5e6185b6c200"
      },
      "outputs": [
        {
          "name": "stdout",
          "output_type": "stream",
          "text": [
            "['conv2d_10', 'batch_normalization_10', 'conv2d_11', 'batch_normalization_11', 'conv2d_12', 'batch_normalization_12', 'conv2d_13', 'batch_normalization_13', 'max_pooling2d_2', 'conv2d_14', 'batch_normalization_14', 'conv2d_15', 'batch_normalization_15', 'conv2d_16', 'batch_normalization_16', 'dropout_4', 'max_pooling2d_3', 'conv2d_17', 'batch_normalization_17', 'conv2d_18', 'batch_normalization_18', 'conv2d_19', 'batch_normalization_19', 'dropout_5', 'flatten_1', 'dense_4', 'dense_5', 'dropout_6', 'dense_6', 'dropout_7', 'dense_7']\n"
          ]
        }
      ],
      "source": [
        "#\n",
        "# Visualize the output of every layer of the model\n",
        "#\n",
        "layer_names = [layer.name for layer in model.layers]\n",
        "layer_outputs = [layer.output for layer in model.layers]\n",
        "\n",
        "print(layer_names)"
      ]
    },
    {
      "cell_type": "code",
      "execution_count": null,
      "metadata": {
        "id": "1jRjr8CqvXFw"
      },
      "outputs": [],
      "source": [
        "lnames = [i for i in layer_names if 'conv' in i or 'pool' in i]"
      ]
    },
    {
      "cell_type": "code",
      "execution_count": null,
      "metadata": {
        "id": "CJAPDiPKvXFw"
      },
      "outputs": [],
      "source": [
        "#\n",
        "# Build a new model with the same input as the original model\n",
        "#\n",
        "activation_model = tf.keras.models.Model(model.inputs, layer_outputs)"
      ]
    },
    {
      "cell_type": "code",
      "execution_count": null,
      "metadata": {
        "id": "P8ZrnbPlvXFw"
      },
      "outputs": [],
      "source": [
        "#\n",
        "# get a sample image and feed it to the newly created model\n",
        "#\n",
        "[image,label] = wrapper_train(filenames[10], id[10])\n",
        "features = activation_model(image)"
      ]
    },
    {
      "cell_type": "code",
      "execution_count": null,
      "metadata": {
        "id": "LZeWd0pPvXFw"
      },
      "outputs": [],
      "source": [
        "#\n",
        "# Print out the results of the model\n",
        "#\n",
        "print(features.shape)\n",
        "plt.imshow(features[0,:,:,:])\n"
      ]
    }
  ],
  "metadata": {
    "accelerator": "GPU",
    "colab": {
      "collapsed_sections": [
        "i-HU_jtkvXFl",
        "JEa2YErBvXFm",
        "t1vbgKo2vXFn",
        "gN470U_wvXFq",
        "mLxi5TQ8vXFr",
        "-BhhJuPnvXFs"
      ],
      "provenance": [],
      "toc_visible": true
    },
    "interpreter": {
      "hash": "83bdccc40ee605d34e09f49ace67acd7810c7790944946e60b6a8185dde0dd2c"
    },
    "kernelspec": {
      "display_name": "Python 3.8.7 ('tensorflow')",
      "language": "python",
      "name": "python3"
    },
    "language_info": {
      "codemirror_mode": {
        "name": "ipython",
        "version": 3
      },
      "file_extension": ".py",
      "mimetype": "text/x-python",
      "name": "python",
      "nbconvert_exporter": "python",
      "pygments_lexer": "ipython3",
      "version": "3.10.8"
    },
    "orig_nbformat": 4
  },
  "nbformat": 4,
  "nbformat_minor": 0
}
